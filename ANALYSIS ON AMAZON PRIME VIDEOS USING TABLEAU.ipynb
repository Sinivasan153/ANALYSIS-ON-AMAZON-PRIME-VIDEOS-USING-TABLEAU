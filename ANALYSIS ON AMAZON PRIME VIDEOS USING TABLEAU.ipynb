{
 "cells": [
  {
   "cell_type": "code",
   "execution_count": 12,
   "id": "af6521bf",
   "metadata": {},
   "outputs": [],
   "source": [
    "# This Python 3 environment comes with many helpful analytics libraries installed\n",
    "# It is defined by the kaggle/python Docker image: https://github.com/kaggle/docker-python\n",
    "# For example, here's several helpful packages to load\n",
    "import numpy as np"
   ]
  },
  {
   "cell_type": "code",
   "execution_count": 13,
   "id": "a54e862e",
   "metadata": {},
   "outputs": [],
   "source": [
    "# Input data files are available in the read-only \"../input/\" directory\n",
    "# For example, running this (by clicking run or pressing Shift+Enter) will list all files under the input directory\n",
    "import pandas as pd "
   ]
  },
  {
   "cell_type": "code",
   "execution_count": 14,
   "id": "4eb1bd66",
   "metadata": {},
   "outputs": [],
   "source": [
    "import os"
   ]
  },
  {
   "cell_type": "code",
   "execution_count": 15,
   "id": "4c23253c",
   "metadata": {},
   "outputs": [],
   "source": [
    "for dirname, _, filenames in os.walk('/kaggle/input'):\n",
    "    for filename in filenames:\n",
    "        print(os.path.join(dirname, filename))\n",
    "# You can write up to 20GB to the current directory (/kaggle/working/) that gets preserved as output when you create a version using \"Save & Run All\" \n",
    "# You can also write temporary files to /kaggle/temp/, but they won't be saved outside of the current session"
   ]
  },
  {
   "cell_type": "code",
   "execution_count": 38,
   "id": "28d44240",
   "metadata": {},
   "outputs": [
    {
     "data": {
      "text/html": [
       "<div>\n",
       "<style scoped>\n",
       "    .dataframe tbody tr th:only-of-type {\n",
       "        vertical-align: middle;\n",
       "    }\n",
       "\n",
       "    .dataframe tbody tr th {\n",
       "        vertical-align: top;\n",
       "    }\n",
       "\n",
       "    .dataframe thead th {\n",
       "        text-align: right;\n",
       "    }\n",
       "</style>\n",
       "<table border=\"1\" class=\"dataframe\">\n",
       "  <thead>\n",
       "    <tr style=\"text-align: right;\">\n",
       "      <th></th>\n",
       "      <th>show_id</th>\n",
       "      <th>type</th>\n",
       "      <th>title</th>\n",
       "      <th>director</th>\n",
       "      <th>cast</th>\n",
       "      <th>country</th>\n",
       "      <th>date_added</th>\n",
       "      <th>release_year</th>\n",
       "      <th>rating</th>\n",
       "      <th>duration</th>\n",
       "      <th>listed_in</th>\n",
       "      <th>description</th>\n",
       "    </tr>\n",
       "  </thead>\n",
       "  <tbody>\n",
       "    <tr>\n",
       "      <th>0</th>\n",
       "      <td>s1</td>\n",
       "      <td>Movie</td>\n",
       "      <td>The Grand Seduction</td>\n",
       "      <td>Don McKellar</td>\n",
       "      <td>Brendan Gleeson, Taylor Kitsch, Gordon Pinsent</td>\n",
       "      <td>Canada</td>\n",
       "      <td>March 30, 2021</td>\n",
       "      <td>2014</td>\n",
       "      <td>NaN</td>\n",
       "      <td>113 min</td>\n",
       "      <td>Comedy, Drama</td>\n",
       "      <td>A small fishing village must procure a local d...</td>\n",
       "    </tr>\n",
       "    <tr>\n",
       "      <th>1</th>\n",
       "      <td>s2</td>\n",
       "      <td>Movie</td>\n",
       "      <td>Take Care Good Night</td>\n",
       "      <td>Girish Joshi</td>\n",
       "      <td>Mahesh Manjrekar, Abhay Mahajan, Sachin Khedekar</td>\n",
       "      <td>India</td>\n",
       "      <td>March 30, 2021</td>\n",
       "      <td>2018</td>\n",
       "      <td>13+</td>\n",
       "      <td>110 min</td>\n",
       "      <td>Drama, International</td>\n",
       "      <td>A Metro Family decides to fight a Cyber Crimin...</td>\n",
       "    </tr>\n",
       "    <tr>\n",
       "      <th>2</th>\n",
       "      <td>s3</td>\n",
       "      <td>Movie</td>\n",
       "      <td>Secrets of Deception</td>\n",
       "      <td>Josh Webber</td>\n",
       "      <td>Tom Sizemore, Lorenzo Lamas, Robert LaSardo, R...</td>\n",
       "      <td>United States</td>\n",
       "      <td>March 30, 2021</td>\n",
       "      <td>2017</td>\n",
       "      <td>NaN</td>\n",
       "      <td>74 min</td>\n",
       "      <td>Action, Drama, Suspense</td>\n",
       "      <td>After a man discovers his wife is cheating on ...</td>\n",
       "    </tr>\n",
       "    <tr>\n",
       "      <th>3</th>\n",
       "      <td>s4</td>\n",
       "      <td>Movie</td>\n",
       "      <td>Pink: Staying True</td>\n",
       "      <td>Sonia Anderson</td>\n",
       "      <td>Interviews with: Pink, Adele, Beyoncé, Britney...</td>\n",
       "      <td>United States</td>\n",
       "      <td>March 30, 2021</td>\n",
       "      <td>2014</td>\n",
       "      <td>NaN</td>\n",
       "      <td>69 min</td>\n",
       "      <td>Documentary</td>\n",
       "      <td>Pink breaks the mold once again, bringing her ...</td>\n",
       "    </tr>\n",
       "    <tr>\n",
       "      <th>4</th>\n",
       "      <td>s5</td>\n",
       "      <td>Movie</td>\n",
       "      <td>Monster Maker</td>\n",
       "      <td>Giles Foster</td>\n",
       "      <td>Harry Dean Stanton, Kieran O'Brien, George Cos...</td>\n",
       "      <td>United Kingdom</td>\n",
       "      <td>March 30, 2021</td>\n",
       "      <td>1989</td>\n",
       "      <td>NaN</td>\n",
       "      <td>45 min</td>\n",
       "      <td>Drama, Fantasy</td>\n",
       "      <td>Teenage Matt Banting wants to work with a famo...</td>\n",
       "    </tr>\n",
       "    <tr>\n",
       "      <th>...</th>\n",
       "      <td>...</td>\n",
       "      <td>...</td>\n",
       "      <td>...</td>\n",
       "      <td>...</td>\n",
       "      <td>...</td>\n",
       "      <td>...</td>\n",
       "      <td>...</td>\n",
       "      <td>...</td>\n",
       "      <td>...</td>\n",
       "      <td>...</td>\n",
       "      <td>...</td>\n",
       "      <td>...</td>\n",
       "    </tr>\n",
       "    <tr>\n",
       "      <th>9663</th>\n",
       "      <td>s9664</td>\n",
       "      <td>Movie</td>\n",
       "      <td>Pride Of The Bowery</td>\n",
       "      <td>Joseph H. Lewis</td>\n",
       "      <td>Leo Gorcey, Bobby Jordan</td>\n",
       "      <td>NaN</td>\n",
       "      <td>NaN</td>\n",
       "      <td>1940</td>\n",
       "      <td>7+</td>\n",
       "      <td>60 min</td>\n",
       "      <td>Comedy</td>\n",
       "      <td>New York City street principles get an East Si...</td>\n",
       "    </tr>\n",
       "    <tr>\n",
       "      <th>9664</th>\n",
       "      <td>s9665</td>\n",
       "      <td>TV Show</td>\n",
       "      <td>Planet Patrol</td>\n",
       "      <td>NaN</td>\n",
       "      <td>DICK VOSBURGH, RONNIE STEVENS, LIBBY MORRIS, M...</td>\n",
       "      <td>NaN</td>\n",
       "      <td>NaN</td>\n",
       "      <td>2018</td>\n",
       "      <td>13+</td>\n",
       "      <td>4 Seasons</td>\n",
       "      <td>TV Shows</td>\n",
       "      <td>This is Earth, 2100AD - and these are the adve...</td>\n",
       "    </tr>\n",
       "    <tr>\n",
       "      <th>9665</th>\n",
       "      <td>s9666</td>\n",
       "      <td>Movie</td>\n",
       "      <td>Outpost</td>\n",
       "      <td>Steve Barker</td>\n",
       "      <td>Ray Stevenson, Julian Wadham, Richard Brake, M...</td>\n",
       "      <td>NaN</td>\n",
       "      <td>NaN</td>\n",
       "      <td>2008</td>\n",
       "      <td>R</td>\n",
       "      <td>90 min</td>\n",
       "      <td>Action</td>\n",
       "      <td>In war-torn Eastern Europe, a world-weary grou...</td>\n",
       "    </tr>\n",
       "    <tr>\n",
       "      <th>9666</th>\n",
       "      <td>s9667</td>\n",
       "      <td>TV Show</td>\n",
       "      <td>Maradona: Blessed Dream</td>\n",
       "      <td>NaN</td>\n",
       "      <td>Esteban Recagno, Ezequiel Stremiz, Luciano Vit...</td>\n",
       "      <td>NaN</td>\n",
       "      <td>NaN</td>\n",
       "      <td>2021</td>\n",
       "      <td>TV-MA</td>\n",
       "      <td>1 Season</td>\n",
       "      <td>Drama, Sports</td>\n",
       "      <td>The series tells the story of Diego Maradona, ...</td>\n",
       "    </tr>\n",
       "    <tr>\n",
       "      <th>9667</th>\n",
       "      <td>s9668</td>\n",
       "      <td>Movie</td>\n",
       "      <td>Harry Brown</td>\n",
       "      <td>Daniel Barber</td>\n",
       "      <td>Michael Caine, Emily Mortimer, Joseph Gilgun, ...</td>\n",
       "      <td>NaN</td>\n",
       "      <td>NaN</td>\n",
       "      <td>2010</td>\n",
       "      <td>R</td>\n",
       "      <td>103 min</td>\n",
       "      <td>Action, Drama, Suspense</td>\n",
       "      <td>Harry Brown, starring two-time Academy Award w...</td>\n",
       "    </tr>\n",
       "  </tbody>\n",
       "</table>\n",
       "<p>9668 rows × 12 columns</p>\n",
       "</div>"
      ],
      "text/plain": [
       "     show_id     type                    title         director  \\\n",
       "0         s1    Movie      The Grand Seduction     Don McKellar   \n",
       "1         s2    Movie     Take Care Good Night     Girish Joshi   \n",
       "2         s3    Movie     Secrets of Deception      Josh Webber   \n",
       "3         s4    Movie       Pink: Staying True   Sonia Anderson   \n",
       "4         s5    Movie            Monster Maker     Giles Foster   \n",
       "...      ...      ...                      ...              ...   \n",
       "9663   s9664    Movie      Pride Of The Bowery  Joseph H. Lewis   \n",
       "9664   s9665  TV Show            Planet Patrol              NaN   \n",
       "9665   s9666    Movie                  Outpost     Steve Barker   \n",
       "9666   s9667  TV Show  Maradona: Blessed Dream              NaN   \n",
       "9667   s9668    Movie              Harry Brown    Daniel Barber   \n",
       "\n",
       "                                                   cast         country  \\\n",
       "0        Brendan Gleeson, Taylor Kitsch, Gordon Pinsent          Canada   \n",
       "1      Mahesh Manjrekar, Abhay Mahajan, Sachin Khedekar           India   \n",
       "2     Tom Sizemore, Lorenzo Lamas, Robert LaSardo, R...   United States   \n",
       "3     Interviews with: Pink, Adele, Beyoncé, Britney...   United States   \n",
       "4     Harry Dean Stanton, Kieran O'Brien, George Cos...  United Kingdom   \n",
       "...                                                 ...             ...   \n",
       "9663                           Leo Gorcey, Bobby Jordan             NaN   \n",
       "9664  DICK VOSBURGH, RONNIE STEVENS, LIBBY MORRIS, M...             NaN   \n",
       "9665  Ray Stevenson, Julian Wadham, Richard Brake, M...             NaN   \n",
       "9666  Esteban Recagno, Ezequiel Stremiz, Luciano Vit...             NaN   \n",
       "9667  Michael Caine, Emily Mortimer, Joseph Gilgun, ...             NaN   \n",
       "\n",
       "          date_added  release_year rating   duration                listed_in  \\\n",
       "0     March 30, 2021          2014    NaN    113 min            Comedy, Drama   \n",
       "1     March 30, 2021          2018    13+    110 min     Drama, International   \n",
       "2     March 30, 2021          2017    NaN     74 min  Action, Drama, Suspense   \n",
       "3     March 30, 2021          2014    NaN     69 min              Documentary   \n",
       "4     March 30, 2021          1989    NaN     45 min           Drama, Fantasy   \n",
       "...              ...           ...    ...        ...                      ...   \n",
       "9663             NaN          1940     7+     60 min                   Comedy   \n",
       "9664             NaN          2018    13+  4 Seasons                 TV Shows   \n",
       "9665             NaN          2008      R     90 min                   Action   \n",
       "9666             NaN          2021  TV-MA   1 Season            Drama, Sports   \n",
       "9667             NaN          2010      R    103 min  Action, Drama, Suspense   \n",
       "\n",
       "                                            description  \n",
       "0     A small fishing village must procure a local d...  \n",
       "1     A Metro Family decides to fight a Cyber Crimin...  \n",
       "2     After a man discovers his wife is cheating on ...  \n",
       "3     Pink breaks the mold once again, bringing her ...  \n",
       "4     Teenage Matt Banting wants to work with a famo...  \n",
       "...                                                 ...  \n",
       "9663  New York City street principles get an East Si...  \n",
       "9664  This is Earth, 2100AD - and these are the adve...  \n",
       "9665  In war-torn Eastern Europe, a world-weary grou...  \n",
       "9666  The series tells the story of Diego Maradona, ...  \n",
       "9667  Harry Brown, starring two-time Academy Award w...  \n",
       "\n",
       "[9668 rows x 12 columns]"
      ]
     },
     "execution_count": 38,
     "metadata": {},
     "output_type": "execute_result"
    }
   ],
   "source": [
    "df = pd.read_csv(\"C:/Users/Sinivasan/Downloads/amazon_prime_titles.csv\")\n",
    "df"
   ]
  },
  {
   "cell_type": "code",
   "execution_count": 17,
   "id": "82810437",
   "metadata": {},
   "outputs": [
    {
     "data": {
      "text/plain": [
       "show_id         object\n",
       "type            object\n",
       "title           object\n",
       "director        object\n",
       "cast            object\n",
       "country         object\n",
       "date_added      object\n",
       "release_year     int64\n",
       "rating          object\n",
       "duration        object\n",
       "listed_in       object\n",
       "description     object\n",
       "dtype: object"
      ]
     },
     "execution_count": 17,
     "metadata": {},
     "output_type": "execute_result"
    }
   ],
   "source": [
    "df.dtypes"
   ]
  },
  {
   "cell_type": "code",
   "execution_count": 18,
   "id": "dfda15e6",
   "metadata": {},
   "outputs": [
    {
     "data": {
      "text/plain": [
       "show_id            0\n",
       "type               0\n",
       "title              0\n",
       "director        2082\n",
       "cast            1233\n",
       "country         8996\n",
       "date_added      9513\n",
       "release_year       0\n",
       "rating           337\n",
       "duration           0\n",
       "listed_in          0\n",
       "description        0\n",
       "dtype: int64"
      ]
     },
     "execution_count": 18,
     "metadata": {},
     "output_type": "execute_result"
    }
   ],
   "source": [
    "df.isnull().sum()"
   ]
  },
  {
   "cell_type": "code",
   "execution_count": 19,
   "id": "b9ecd8ea",
   "metadata": {},
   "outputs": [],
   "source": [
    "df.director.fillna(\"unknown\", inplace=True)\n",
    "df.cast.fillna(\"unknown\", inplace=True)\n",
    "df.country.fillna(\"unknown\", inplace=True)\n",
    "df.date_added.fillna(\"unknown\", inplace=True)\n",
    "df.rating.fillna(\"U\", inplace=True)"
   ]
  },
  {
   "cell_type": "code",
   "execution_count": 20,
   "id": "2cee9d48",
   "metadata": {},
   "outputs": [
    {
     "name": "stdout",
     "output_type": "stream",
     "text": [
      "<class 'pandas.core.frame.DataFrame'>\n",
      "RangeIndex: 9668 entries, 0 to 9667\n",
      "Data columns (total 12 columns):\n",
      " #   Column        Non-Null Count  Dtype \n",
      "---  ------        --------------  ----- \n",
      " 0   show_id       9668 non-null   object\n",
      " 1   type          9668 non-null   object\n",
      " 2   title         9668 non-null   object\n",
      " 3   director      9668 non-null   object\n",
      " 4   cast          9668 non-null   object\n",
      " 5   country       9668 non-null   object\n",
      " 6   date_added    9668 non-null   object\n",
      " 7   release_year  9668 non-null   int64 \n",
      " 8   rating        9668 non-null   object\n",
      " 9   duration      9668 non-null   object\n",
      " 10  listed_in     9668 non-null   object\n",
      " 11  description   9668 non-null   object\n",
      "dtypes: int64(1), object(11)\n",
      "memory usage: 906.5+ KB\n"
     ]
    }
   ],
   "source": [
    "df.info()"
   ]
  },
  {
   "cell_type": "code",
   "execution_count": 21,
   "id": "7802c8c5",
   "metadata": {},
   "outputs": [
    {
     "data": {
      "text/plain": [
       "Movie      7814\n",
       "TV Show    1854\n",
       "Name: type, dtype: int64"
      ]
     },
     "execution_count": 21,
     "metadata": {},
     "output_type": "execute_result"
    }
   ],
   "source": [
    "type_counts = df['type'].value_counts()\n",
    "type_counts"
   ]
  },
  {
   "cell_type": "code",
   "execution_count": 22,
   "id": "3c2c03ba",
   "metadata": {},
   "outputs": [],
   "source": [
    "import matplotlib.pyplot as plt\n",
    "import seaborn as sns; sns.set()"
   ]
  },
  {
   "cell_type": "code",
   "execution_count": 23,
   "id": "b4b3c99f",
   "metadata": {},
   "outputs": [
    {
     "data": {
      "image/png": "[encoded data removed]",
      "text/plain": [
       "<Figure size 600x800 with 1 Axes>"
      ]
     },
     "metadata": {},
     "output_type": "display_data"
    }
   ],
   "source": [
    "plt.figure(figsize=(6,8))\n",
    "plt.bar(type_counts.index, type_counts.values)\n",
    "plt.title('Grouped by Type')\n",
    "for i, value in enumerate(type_counts.values):\n",
    "    plt.text(i, value-70, str(value), fontsize=12, color='white',\n",
    "            horizontalalignment='center', verticalalignment='top')\n",
    "plt.show()"
   ]
  },
  {
   "cell_type": "code",
   "execution_count": 24,
   "id": "a237c144",
   "metadata": {},
   "outputs": [
    {
     "name": "stdout",
     "output_type": "stream",
     "text": [
      "['Don McKellar' 'Girish Joshi' 'Josh Webber' ...\n",
      " 'John-Paul Davidson, Stephen Warbeck' 'Emily Skye' 'Steve Barker']\n"
     ]
    }
   ],
   "source": [
    "uni_director = df['director'].unique()\n",
    "print(uni_director)"
   ]
  },
  {
   "cell_type": "code",
   "execution_count": 25,
   "id": "fbc1205d",
   "metadata": {},
   "outputs": [
    {
     "data": {
      "text/plain": [
       "unknown                  2082\n",
       "Mark Knight               113\n",
       "Cannis Holder              61\n",
       "Moonbug Entertainment      37\n",
       "Jay Chapman                34\n",
       "                         ... \n",
       "Andrew Traucki              1\n",
       "Karyn Kusama                1\n",
       "K. Subash                   1\n",
       "Robert Cuffley              1\n",
       "Steve Barker                1\n",
       "Name: director, Length: 5775, dtype: int64"
      ]
     },
     "execution_count": 25,
     "metadata": {},
     "output_type": "execute_result"
    }
   ],
   "source": [
    "director_count = df['director'].value_counts()\n",
    "director_count"
   ]
  },
  {
   "cell_type": "code",
   "execution_count": 26,
   "id": "10991b28",
   "metadata": {},
   "outputs": [
    {
     "data": {
      "text/plain": [
       "unknown                                                                                                                                                                           1233\n",
       "Maggie Binkley                                                                                                                                                                      56\n",
       "1                                                                                                                                                                                   34\n",
       "Anne-Marie Newland                                                                                                                                                                  24\n",
       "Cassandra Peterson                                                                                                                                                                  21\n",
       "                                                                                                                                                                                  ... \n",
       "Robert Redford, Jane Fonda, Charles Boyer, Mildred Natwick, Herb Edelman                                                                                                             1\n",
       "Paul Reubens, Stephanie Hodge, Valeria Golino, Kris Kristofferson, Penelope Ann Miller, Susan Tyrrell, Albert Henderson, Terrence Mann, Jack Murdock, David Byrd, Mary Jackson       1\n",
       "Lorena Segura York, Garrett Westton, Bill Engvall, Bethany Peterson, Dariush A. Moslemi                                                                                              1\n",
       "Toni Collette, Parker Posey, Lisa Kudrow                                                                                                                                             1\n",
       "Michael Caine, Emily Mortimer, Joseph Gilgun, Sean Harris                                                                                                                            1\n",
       "Name: cast, Length: 7928, dtype: int64"
      ]
     },
     "execution_count": 26,
     "metadata": {},
     "output_type": "execute_result"
    }
   ],
   "source": [
    "cast_count = df['cast'].value_counts()\n",
    "cast_count"
   ]
  },
  {
   "cell_type": "code",
   "execution_count": 27,
   "id": "7fa1e6ff",
   "metadata": {},
   "outputs": [
    {
     "data": {
      "text/plain": [
       "unknown                                  8996\n",
       "United States                             253\n",
       "India                                     229\n",
       "United Kingdom                             28\n",
       "Canada                                     16\n",
       "                                         ... \n",
       "United States, Germany, Brazil, Italy       1\n",
       "South Africa                                1\n",
       "Australia, United States, Germany           1\n",
       "Germany, Austria, United States             1\n",
       "Italy, Spain                                1\n",
       "Name: country, Length: 87, dtype: int64"
      ]
     },
     "execution_count": 27,
     "metadata": {},
     "output_type": "execute_result"
    }
   ],
   "source": [
    "country_count = df['country'].value_counts()\n",
    "country_count"
   ]
  },
  {
   "cell_type": "code",
   "execution_count": 28,
   "id": "757fbfbf",
   "metadata": {},
   "outputs": [
    {
     "data": {
      "text/plain": [
       "unknown               9513\n",
       "March 30, 2021          14\n",
       "August 27, 2021          6\n",
       "October 2, 2021          4\n",
       "September 26, 2021       4\n",
       "                      ... \n",
       "July 27, 2021            1\n",
       "April 30, 2021           1\n",
       "August 14, 2021          1\n",
       "August 15, 2021          1\n",
       "July 26, 2021            1\n",
       "Name: date_added, Length: 85, dtype: int64"
      ]
     },
     "execution_count": 28,
     "metadata": {},
     "output_type": "execute_result"
    }
   ],
   "source": [
    "date_count = df['date_added'].value_counts()\n",
    "date_count"
   ]
  },
  {
   "cell_type": "code",
   "execution_count": 29,
   "id": "25a15b34",
   "metadata": {},
   "outputs": [
    {
     "data": {
      "text/plain": [
       "unknown               9513\n",
       "March 30, 2021          14\n",
       "August 27, 2021          6\n",
       "October 2, 2021          4\n",
       "September 26, 2021       4\n",
       "                      ... \n",
       "July 27, 2021            1\n",
       "April 30, 2021           1\n",
       "August 14, 2021          1\n",
       "August 15, 2021          1\n",
       "July 26, 2021            1\n",
       "Name: date_added, Length: 85, dtype: int64"
      ]
     },
     "execution_count": 29,
     "metadata": {},
     "output_type": "execute_result"
    }
   ],
   "source": [
    "release_count = df['date_added'].value_counts()\n",
    "release_count"
   ]
  },
  {
   "cell_type": "code",
   "execution_count": 30,
   "id": "d757eb8f",
   "metadata": {},
   "outputs": [
    {
     "data": {
      "text/plain": [
       "13+         2117\n",
       "16+         1547\n",
       "ALL         1268\n",
       "18+         1243\n",
       "R           1010\n",
       "PG-13        393\n",
       "7+           385\n",
       "U            337\n",
       "PG           253\n",
       "NR           223\n",
       "TV-14        208\n",
       "TV-PG        169\n",
       "TV-NR        105\n",
       "G             93\n",
       "TV-G          81\n",
       "TV-MA         77\n",
       "TV-Y          74\n",
       "TV-Y7         39\n",
       "UNRATED       33\n",
       "NC-17          3\n",
       "AGES_18_       3\n",
       "NOT_RATE       3\n",
       "AGES_16_       2\n",
       "16             1\n",
       "ALL_AGES       1\n",
       "Name: rating, dtype: int64"
      ]
     },
     "execution_count": 30,
     "metadata": {},
     "output_type": "execute_result"
    }
   ],
   "source": [
    "rating_count = df['rating'].value_counts()\n",
    "rating_count"
   ]
  },
  {
   "cell_type": "code",
   "execution_count": 31,
   "id": "5c26b28b",
   "metadata": {},
   "outputs": [
    {
     "data": {
      "image/png": "[encoded data removed]",
      "text/plain": [
       "<Figure size 3000x1000 with 1 Axes>"
      ]
     },
     "metadata": {},
     "output_type": "display_data"
    }
   ],
   "source": [
    "plt.figure(figsize=(30,10))\n",
    "plt.bar(rating_count.index, rating_count.values)\n",
    "plt.title('Grouped by Rating')\n",
    "# plt.xticks([0,1],['Movies', 'TV Shows'])\n",
    "\n",
    "#show the text detail\n",
    "for i, value in enumerate(rating_count.values):\n",
    "    plt.text(i, value-70, str(value), fontsize=12, color='white',\n",
    "            horizontalalignment='center', verticalalignment='center')\n",
    "plt.show()"
   ]
  },
  {
   "cell_type": "code",
   "execution_count": 32,
   "id": "accfa2e3",
   "metadata": {},
   "outputs": [
    {
     "data": {
      "text/plain": [
       "1 Season      1342\n",
       "2 Seasons      229\n",
       "90 min         223\n",
       "91 min         220\n",
       "92 min         203\n",
       "              ... \n",
       "21 Seasons       1\n",
       "485 min          1\n",
       "550 min          1\n",
       "181 min          1\n",
       "191 min          1\n",
       "Name: duration, Length: 219, dtype: int64"
      ]
     },
     "execution_count": 32,
     "metadata": {},
     "output_type": "execute_result"
    }
   ],
   "source": [
    "duration_count = df['duration'].value_counts()\n",
    "duration_count"
   ]
  },
  {
   "cell_type": "code",
   "execution_count": 33,
   "id": "0794248e",
   "metadata": {},
   "outputs": [
    {
     "data": {
      "text/plain": [
       "Drama                                                                            986\n",
       "Comedy                                                                           536\n",
       "Drama, Suspense                                                                  399\n",
       "Comedy, Drama                                                                    377\n",
       "Animation, Kids                                                                  356\n",
       "                                                                                ... \n",
       "Arts, Entertainment, and Culture, Music Videos and Concerts, Special Interest      1\n",
       "Arts, Entertainment, and Culture, Comedy, Military and War                         1\n",
       "Comedy, Faith and Spirituality, Kids                                               1\n",
       "Arts, Entertainment, and Culture, Fantasy, Kids                                    1\n",
       "Anime, Comedy, Drama                                                               1\n",
       "Name: listed_in, Length: 518, dtype: int64"
      ]
     },
     "execution_count": 33,
     "metadata": {},
     "output_type": "execute_result"
    }
   ],
   "source": [
    "listed_count = df['listed_in'].value_counts()\n",
    "listed_count"
   ]
  },
  {
   "cell_type": "code",
   "execution_count": 34,
   "id": "7400f269",
   "metadata": {},
   "outputs": [
    {
     "data": {
      "text/html": [
       "<div>\n",
       "<style scoped>\n",
       "    .dataframe tbody tr th:only-of-type {\n",
       "        vertical-align: middle;\n",
       "    }\n",
       "\n",
       "    .dataframe tbody tr th {\n",
       "        vertical-align: top;\n",
       "    }\n",
       "\n",
       "    .dataframe thead th {\n",
       "        text-align: right;\n",
       "    }\n",
       "</style>\n",
       "<table border=\"1\" class=\"dataframe\">\n",
       "  <thead>\n",
       "    <tr style=\"text-align: right;\">\n",
       "      <th></th>\n",
       "      <th>show_id</th>\n",
       "      <th>type</th>\n",
       "      <th>title</th>\n",
       "      <th>director</th>\n",
       "      <th>cast</th>\n",
       "      <th>country</th>\n",
       "      <th>date_added</th>\n",
       "      <th>release_year</th>\n",
       "      <th>rating</th>\n",
       "      <th>duration</th>\n",
       "      <th>listed_in</th>\n",
       "      <th>description</th>\n",
       "    </tr>\n",
       "  </thead>\n",
       "  <tbody>\n",
       "    <tr>\n",
       "      <th>0</th>\n",
       "      <td>s1</td>\n",
       "      <td>Movie</td>\n",
       "      <td>The Grand Seduction</td>\n",
       "      <td>Don McKellar</td>\n",
       "      <td>Brendan Gleeson, Taylor Kitsch, Gordon Pinsent</td>\n",
       "      <td>Canada</td>\n",
       "      <td>March 30, 2021</td>\n",
       "      <td>2014</td>\n",
       "      <td>U</td>\n",
       "      <td>113 min</td>\n",
       "      <td>Comedy, Drama</td>\n",
       "      <td>A small fishing village must procure a local d...</td>\n",
       "    </tr>\n",
       "    <tr>\n",
       "      <th>1</th>\n",
       "      <td>s2</td>\n",
       "      <td>Movie</td>\n",
       "      <td>Take Care Good Night</td>\n",
       "      <td>Girish Joshi</td>\n",
       "      <td>Mahesh Manjrekar, Abhay Mahajan, Sachin Khedekar</td>\n",
       "      <td>India</td>\n",
       "      <td>March 30, 2021</td>\n",
       "      <td>2018</td>\n",
       "      <td>13+</td>\n",
       "      <td>110 min</td>\n",
       "      <td>Drama, International</td>\n",
       "      <td>A Metro Family decides to fight a Cyber Crimin...</td>\n",
       "    </tr>\n",
       "    <tr>\n",
       "      <th>2</th>\n",
       "      <td>s3</td>\n",
       "      <td>Movie</td>\n",
       "      <td>Secrets of Deception</td>\n",
       "      <td>Josh Webber</td>\n",
       "      <td>Tom Sizemore, Lorenzo Lamas, Robert LaSardo, R...</td>\n",
       "      <td>United States</td>\n",
       "      <td>March 30, 2021</td>\n",
       "      <td>2017</td>\n",
       "      <td>U</td>\n",
       "      <td>74 min</td>\n",
       "      <td>Action, Drama, Suspense</td>\n",
       "      <td>After a man discovers his wife is cheating on ...</td>\n",
       "    </tr>\n",
       "    <tr>\n",
       "      <th>3</th>\n",
       "      <td>s4</td>\n",
       "      <td>Movie</td>\n",
       "      <td>Pink: Staying True</td>\n",
       "      <td>Sonia Anderson</td>\n",
       "      <td>Interviews with: Pink, Adele, Beyoncé, Britney...</td>\n",
       "      <td>United States</td>\n",
       "      <td>March 30, 2021</td>\n",
       "      <td>2014</td>\n",
       "      <td>U</td>\n",
       "      <td>69 min</td>\n",
       "      <td>Documentary</td>\n",
       "      <td>Pink breaks the mold once again, bringing her ...</td>\n",
       "    </tr>\n",
       "    <tr>\n",
       "      <th>4</th>\n",
       "      <td>s5</td>\n",
       "      <td>Movie</td>\n",
       "      <td>Monster Maker</td>\n",
       "      <td>Giles Foster</td>\n",
       "      <td>Harry Dean Stanton, Kieran O'Brien, George Cos...</td>\n",
       "      <td>United Kingdom</td>\n",
       "      <td>March 30, 2021</td>\n",
       "      <td>1989</td>\n",
       "      <td>U</td>\n",
       "      <td>45 min</td>\n",
       "      <td>Drama, Fantasy</td>\n",
       "      <td>Teenage Matt Banting wants to work with a famo...</td>\n",
       "    </tr>\n",
       "    <tr>\n",
       "      <th>...</th>\n",
       "      <td>...</td>\n",
       "      <td>...</td>\n",
       "      <td>...</td>\n",
       "      <td>...</td>\n",
       "      <td>...</td>\n",
       "      <td>...</td>\n",
       "      <td>...</td>\n",
       "      <td>...</td>\n",
       "      <td>...</td>\n",
       "      <td>...</td>\n",
       "      <td>...</td>\n",
       "      <td>...</td>\n",
       "    </tr>\n",
       "    <tr>\n",
       "      <th>9604</th>\n",
       "      <td>s9605</td>\n",
       "      <td>Movie</td>\n",
       "      <td>Bride Wars</td>\n",
       "      <td>Gary Winick</td>\n",
       "      <td>Kate Hudson, Anne Hathaway, Kristen Johnston, ...</td>\n",
       "      <td>United States</td>\n",
       "      <td>unknown</td>\n",
       "      <td>2009</td>\n",
       "      <td>PG</td>\n",
       "      <td>89 min</td>\n",
       "      <td>Comedy</td>\n",
       "      <td>When a clerical error causes a clash in weddin...</td>\n",
       "    </tr>\n",
       "    <tr>\n",
       "      <th>9614</th>\n",
       "      <td>s9615</td>\n",
       "      <td>Movie</td>\n",
       "      <td>What Happens in Vegas</td>\n",
       "      <td>Tom Vaughan</td>\n",
       "      <td>Cameron Diaz,  Ashton Kutcher,  Rob Corddry,  ...</td>\n",
       "      <td>United States</td>\n",
       "      <td>unknown</td>\n",
       "      <td>2008</td>\n",
       "      <td>PG-13</td>\n",
       "      <td>99 min</td>\n",
       "      <td>Comedy</td>\n",
       "      <td>Jack Fuller (Ashton Kutcher) and Joy McNally (...</td>\n",
       "    </tr>\n",
       "    <tr>\n",
       "      <th>9641</th>\n",
       "      <td>s9642</td>\n",
       "      <td>Movie</td>\n",
       "      <td>Marley &amp; Me</td>\n",
       "      <td>David Frankel</td>\n",
       "      <td>Owen Wilson, Jennifer Aniston</td>\n",
       "      <td>United States</td>\n",
       "      <td>unknown</td>\n",
       "      <td>2008</td>\n",
       "      <td>PG</td>\n",
       "      <td>116 min</td>\n",
       "      <td>Comedy, Drama, Kids</td>\n",
       "      <td>Jennifer Aniston and Owen Wilson unleash huge ...</td>\n",
       "    </tr>\n",
       "    <tr>\n",
       "      <th>9643</th>\n",
       "      <td>s9644</td>\n",
       "      <td>Movie</td>\n",
       "      <td>Love &amp; Other Drugs</td>\n",
       "      <td>Edward Zwick</td>\n",
       "      <td>K K, Jake Gyllenhaal, Anne Hathaway, Oliver Pl...</td>\n",
       "      <td>United States</td>\n",
       "      <td>unknown</td>\n",
       "      <td>2010</td>\n",
       "      <td>R</td>\n",
       "      <td>112 min</td>\n",
       "      <td>Comedy, Drama</td>\n",
       "      <td>A womanizing pfizer drug rep with no sense of ...</td>\n",
       "    </tr>\n",
       "    <tr>\n",
       "      <th>9644</th>\n",
       "      <td>s9645</td>\n",
       "      <td>Movie</td>\n",
       "      <td>Little Miss Sunshine</td>\n",
       "      <td>Jonathan Dayton, Valerie Faris</td>\n",
       "      <td>Abigail Breslin, Greg Kinnear, Paul Dano, Alan...</td>\n",
       "      <td>United States</td>\n",
       "      <td>unknown</td>\n",
       "      <td>2006</td>\n",
       "      <td>R</td>\n",
       "      <td>103 min</td>\n",
       "      <td>Comedy, Drama</td>\n",
       "      <td>A family determined to get their young daughte...</td>\n",
       "    </tr>\n",
       "  </tbody>\n",
       "</table>\n",
       "<p>526 rows × 12 columns</p>\n",
       "</div>"
      ],
      "text/plain": [
       "     show_id   type                  title                        director  \\\n",
       "0         s1  Movie    The Grand Seduction                    Don McKellar   \n",
       "1         s2  Movie   Take Care Good Night                    Girish Joshi   \n",
       "2         s3  Movie   Secrets of Deception                     Josh Webber   \n",
       "3         s4  Movie     Pink: Staying True                  Sonia Anderson   \n",
       "4         s5  Movie          Monster Maker                    Giles Foster   \n",
       "...      ...    ...                    ...                             ...   \n",
       "9604   s9605  Movie             Bride Wars                     Gary Winick   \n",
       "9614   s9615  Movie  What Happens in Vegas                     Tom Vaughan   \n",
       "9641   s9642  Movie            Marley & Me                   David Frankel   \n",
       "9643   s9644  Movie     Love & Other Drugs                    Edward Zwick   \n",
       "9644   s9645  Movie   Little Miss Sunshine  Jonathan Dayton, Valerie Faris   \n",
       "\n",
       "                                                   cast         country  \\\n",
       "0        Brendan Gleeson, Taylor Kitsch, Gordon Pinsent          Canada   \n",
       "1      Mahesh Manjrekar, Abhay Mahajan, Sachin Khedekar           India   \n",
       "2     Tom Sizemore, Lorenzo Lamas, Robert LaSardo, R...   United States   \n",
       "3     Interviews with: Pink, Adele, Beyoncé, Britney...   United States   \n",
       "4     Harry Dean Stanton, Kieran O'Brien, George Cos...  United Kingdom   \n",
       "...                                                 ...             ...   \n",
       "9604  Kate Hudson, Anne Hathaway, Kristen Johnston, ...   United States   \n",
       "9614  Cameron Diaz,  Ashton Kutcher,  Rob Corddry,  ...   United States   \n",
       "9641                      Owen Wilson, Jennifer Aniston   United States   \n",
       "9643  K K, Jake Gyllenhaal, Anne Hathaway, Oliver Pl...   United States   \n",
       "9644  Abigail Breslin, Greg Kinnear, Paul Dano, Alan...   United States   \n",
       "\n",
       "          date_added  release_year rating duration                listed_in  \\\n",
       "0     March 30, 2021          2014      U  113 min            Comedy, Drama   \n",
       "1     March 30, 2021          2018    13+  110 min     Drama, International   \n",
       "2     March 30, 2021          2017      U   74 min  Action, Drama, Suspense   \n",
       "3     March 30, 2021          2014      U   69 min              Documentary   \n",
       "4     March 30, 2021          1989      U   45 min           Drama, Fantasy   \n",
       "...              ...           ...    ...      ...                      ...   \n",
       "9604         unknown          2009     PG   89 min                   Comedy   \n",
       "9614         unknown          2008  PG-13   99 min                   Comedy   \n",
       "9641         unknown          2008     PG  116 min      Comedy, Drama, Kids   \n",
       "9643         unknown          2010      R  112 min            Comedy, Drama   \n",
       "9644         unknown          2006      R  103 min            Comedy, Drama   \n",
       "\n",
       "                                            description  \n",
       "0     A small fishing village must procure a local d...  \n",
       "1     A Metro Family decides to fight a Cyber Crimin...  \n",
       "2     After a man discovers his wife is cheating on ...  \n",
       "3     Pink breaks the mold once again, bringing her ...  \n",
       "4     Teenage Matt Banting wants to work with a famo...  \n",
       "...                                                 ...  \n",
       "9604  When a clerical error causes a clash in weddin...  \n",
       "9614  Jack Fuller (Ashton Kutcher) and Joy McNally (...  \n",
       "9641  Jennifer Aniston and Owen Wilson unleash huge ...  \n",
       "9643  A womanizing pfizer drug rep with no sense of ...  \n",
       "9644  A family determined to get their young daughte...  \n",
       "\n",
       "[526 rows x 12 columns]"
      ]
     },
     "execution_count": 34,
     "metadata": {},
     "output_type": "execute_result"
    }
   ],
   "source": [
    "top4country = df[(df['country'] == 'United States') | (df['country'] == 'India') | (df['country'] == 'United Kingdom') | (df['country'] == 'Canada')]\n",
    "top4country"
   ]
  },
  {
   "cell_type": "code",
   "execution_count": 35,
   "id": "96265bcf",
   "metadata": {},
   "outputs": [
    {
     "data": {
      "text/plain": [
       "United States     253\n",
       "India             229\n",
       "United Kingdom     28\n",
       "Canada             16\n",
       "Name: country, dtype: int64"
      ]
     },
     "execution_count": 35,
     "metadata": {},
     "output_type": "execute_result"
    }
   ],
   "source": [
    "top4_counts = top4country['country'].value_counts()\n",
    "top4_counts"
   ]
  },
  {
   "cell_type": "code",
   "execution_count": 36,
   "id": "28c20b2d",
   "metadata": {},
   "outputs": [
    {
     "data": {
      "image/png": "[encoded data removed]",
      "text/plain": [
       "<Figure size 1000x500 with 1 Axes>"
      ]
     },
     "metadata": {},
     "output_type": "display_data"
    }
   ],
   "source": [
    "plt.figure(figsize=(10,5))\n",
    "# plt.bar(top4_counts.index, top4_counts.values)\n",
    "plt.title('Grouped by Country')\n",
    "sns.countplot(x=\"country\" , hue=\"type\" , data=top4country)\n",
    "# plt.xticks([0,1],['Movies', 'TV Shows'])\n",
    "\n",
    "\n",
    "plt.show()\n"
   ]
  },
  {
   "cell_type": "code",
   "execution_count": 37,
   "id": "08d19fce",
   "metadata": {},
   "outputs": [
    {
     "data": {
      "image/png": "[encoded data removed]",
      "text/plain": [
       "<Figure size 1000x500 with 1 Axes>"
      ]
     },
     "metadata": {},
     "output_type": "display_data"
    }
   ],
   "source": [
    "plt.figure(figsize=(10,5))\n",
    "# plt.bar(top4_counts.index, top4_counts.values)\n",
    "plt.title('Grouped by Rating')\n",
    "sns.countplot(x=\"rating\" , hue=\"type\" , data=top4country)\n",
    "# plt.xticks([0,1],['Movies', 'TV Shows'])\n",
    "\n",
    "\n",
    "plt.show()"
   ]
  },
  {
   "cell_type": "code",
   "execution_count": null,
   "id": "f985527c",
   "metadata": {},
   "outputs": [],
   "source": []
  }
 ],
 "metadata": {
  "kernelspec": {
   "display_name": "Python 3 (ipykernel)",
   "language": "python",
   "name": "python3"
  },
  "language_info": {
   "codemirror_mode": {
    "name": "ipython",
    "version": 3
   },
   "file_extension": ".py",
   "mimetype": "text/x-python",
   "name": "python",
   "nbconvert_exporter": "python",
   "pygments_lexer": "ipython3",
   "version": "3.9.13"
  }
 },
 "nbformat": 4,
 "nbformat_minor": 5
}
